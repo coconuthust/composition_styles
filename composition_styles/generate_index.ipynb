{
 "cells": [
  {
   "cell_type": "markdown",
   "metadata": {},
   "source": [
    "### To use triplet-style or quadruplet-style, we need to generate the index to guide the foreground selection"
   ]
  },
  {
   "cell_type": "code",
   "execution_count": 2,
   "metadata": {},
   "outputs": [],
   "source": [
    "import numpy as np"
   ]
  },
  {
   "cell_type": "markdown",
   "metadata": {},
   "source": [
    "### set parameters based on the training strategy you use\n",
    "**for example in A2U matting**\n",
    "\n",
    "epoch: 30\n",
    "\n",
    "batch_size: 16\n",
    "\n",
    "iteration: 6000\n",
    "\n",
    "\n",
    "**for example in GCA Matting**\n",
    "\n",
    "GCA trains 200000 iterations in total without spilting the epochs\n",
    "\n",
    "for sample diversity we need to split them in the form of epochs\n",
    "\n",
    "if we update the sample set each 2400 iterations, then:\n",
    "\n",
    "epoch: 84\n",
    "\n",
    "batch_size: 40\n",
    "\n",
    "iteration: 2400\n",
    "\n",
    "##### select composition style by setting sample numbers in a tuple\n",
    "**triplet-style**\n",
    "\n",
    "sample_per_tuple: 3\n",
    "\n",
    "**quadruplet-style**\n",
    "\n",
    "sample_per_tuple: 4"
   ]
  },
  {
   "cell_type": "code",
   "execution_count": 3,
   "metadata": {},
   "outputs": [],
   "source": [
    "epoch = 30\n",
    "batch_size =16\n",
    "iteration = 6000\n",
    "sample_per_tuple = 3"
   ]
  },
  {
   "cell_type": "markdown",
   "metadata": {},
   "source": [
    "### generate foreground combinations and foreground list for each epoch"
   ]
  },
  {
   "cell_type": "code",
   "execution_count": 10,
   "metadata": {},
   "outputs": [],
   "source": [
    "a = np.arange(0,431)\n",
    "from itertools import combinations\n",
    "list = []\n",
    "for i in combinations(a, 2):\n",
    "    list.append(i)"
   ]
  },
  {
   "cell_type": "code",
   "execution_count": 11,
   "metadata": {},
   "outputs": [],
   "source": [
    "import random\n",
    "foreground_list = []\n",
    "for i in range(0,epoch):\n",
    "    foreground_list_element = random.sample(list, int(batch_size * iteration / sample_per_tuple))\n",
    "    foreground_list.append(foreground_list_element)"
   ]
  },
  {
   "cell_type": "code",
   "execution_count": 12,
   "metadata": {},
   "outputs": [],
   "source": [
    "foreground_list = np.array(foreground_list)"
   ]
  },
  {
   "cell_type": "code",
   "execution_count": 13,
   "metadata": {},
   "outputs": [
    {
     "data": {
      "text/plain": [
       "(30, 32000, 2)"
      ]
     },
     "execution_count": 13,
     "metadata": {},
     "output_type": "execute_result"
    }
   ],
   "source": [
    "foreground_list.shape"
   ]
  },
  {
   "attachments": {},
   "cell_type": "markdown",
   "metadata": {},
   "source": [
    "### generate random order list for an epoch\n",
    "If the order list is not shuffled, then the relevant samples will appear in the sample set in order.\n",
    "\n",
    "\n",
    "The experimental results show that it will be better to shuffle them to ensure the diversity in a batch."
   ]
  },
  {
   "cell_type": "code",
   "execution_count": 14,
   "metadata": {},
   "outputs": [
    {
     "data": {
      "text/plain": [
       "96000"
      ]
     },
     "execution_count": 14,
     "metadata": {},
     "output_type": "execute_result"
    }
   ],
   "source": [
    "import numpy as np\n",
    "a = np.arange(0,batch_size*iteration)\n",
    "a = a.tolist()\n",
    "len(a)"
   ]
  },
  {
   "cell_type": "code",
   "execution_count": 15,
   "metadata": {},
   "outputs": [],
   "source": [
    "import random\n",
    "random.shuffle(a)"
   ]
  },
  {
   "cell_type": "code",
   "execution_count": 16,
   "metadata": {},
   "outputs": [],
   "source": [
    "a = np.array(a)\n",
    "np.save(file = 'orderlist.npy', arr = a)\n"
   ]
  },
  {
   "cell_type": "code",
   "execution_count": 17,
   "metadata": {},
   "outputs": [],
   "source": [
    "np.save(file = 'forelist.npy', arr = foreground_list)"
   ]
  },
  {
   "cell_type": "markdown",
   "metadata": {},
   "source": [
    "### generate background list for each epoch"
   ]
  },
  {
   "cell_type": "code",
   "execution_count": 19,
   "metadata": {},
   "outputs": [],
   "source": [
    "back = np.arange(0,82762)\n",
    "np.random.shuffle(back)\n",
    "back = back.reshape(-1,2)\n",
    "back = back.tolist()"
   ]
  },
  {
   "cell_type": "code",
   "execution_count": 20,
   "metadata": {},
   "outputs": [],
   "source": [
    "import random\n",
    "back_list = []\n",
    "for i in range(0,epoch):\n",
    "    background_list_element = random.sample(back * 2, int(batch_size * iteration / sample_per_tuple))\n",
    "    back_list.append(background_list_element)"
   ]
  },
  {
   "cell_type": "code",
   "execution_count": 21,
   "metadata": {},
   "outputs": [
    {
     "data": {
      "text/plain": [
       "(30, 32000, 2)"
      ]
     },
     "execution_count": 21,
     "metadata": {},
     "output_type": "execute_result"
    }
   ],
   "source": [
    "back_list = np.array(back_list)\n",
    "back_list.shape"
   ]
  },
  {
   "cell_type": "code",
   "execution_count": 22,
   "metadata": {},
   "outputs": [],
   "source": [
    "np.save(file = 'backlist.npy', arr = back_list)"
   ]
  }
 ],
 "metadata": {
  "interpreter": {
   "hash": "f61e3e4ee8d5c385a6532723f4aaec1d779431e24c4123a16d7aadaccada3b1d"
  },
  "kernelspec": {
   "display_name": "Python 3.8.10 64-bit ('base': conda)",
   "name": "python3"
  },
  "language_info": {
   "codemirror_mode": {
    "name": "ipython",
    "version": 3
   },
   "file_extension": ".py",
   "mimetype": "text/x-python",
   "name": "python",
   "nbconvert_exporter": "python",
   "pygments_lexer": "ipython3",
   "version": "3.8.10 | packaged by conda-forge | (default, May 11 2021, 07:01:05) \n[GCC 9.3.0]"
  },
  "orig_nbformat": 4
 },
 "nbformat": 4,
 "nbformat_minor": 2
}
